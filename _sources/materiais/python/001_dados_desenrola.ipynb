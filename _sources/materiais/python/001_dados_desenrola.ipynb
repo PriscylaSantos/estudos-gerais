{
 "cells": [
  {
   "cell_type": "markdown",
   "id": "045fa1cd-171f-42a3-b5e4-4f14052ae3fa",
   "metadata": {},
   "source": [
    "## Uma análise dos dados do Desenrola Brasil"
   ]
  },
  {
   "cell_type": "markdown",
   "id": "1d2b533b-8bd2-4edc-a194-35fdd26f3175",
   "metadata": {},
   "source": [
    "Mensalmente, o Banco Central do Brasil (BCB) disponibiliza, através de um arquivo no formato CSV, um compilado de informações sobre transações de crédito reportadas ao Sistema de Informações de Créditos (SCR). Essas informações são específicas para transações associadas ao Programa Emergencial de Renegociação de Dívidas para Pessoas Físicas com Atrasos no Pagamento - Desenrola Brasil, criado pela Lei Nº 14.690, de 3 de outubro de 2023.\n",
    "\n",
    "A publicação é limitada às transações marcadas no SCR como parte do programa Desenrola Brasil e inclui detalhes como o número de transações de crédito oriundas de renegociações e os montantes dessas transações após aplicação de descontos. Estes dados são apresentados separadamente por credor, estado e categoria do programa.\n",
    "\n",
    "Para cada mês de referência, as informações divulgadas correspondem às transações renegociadas naquele período. Excepcionalmente para o mês base de setembro de 2023, as informações abrangem transações renegociadas tanto em setembro quanto em meses anteriores.\n",
    "\n",
    "O arquivo CSV é atualizado no último dia útil de cada mês, trazendo dados até o último mês de referência. Você pode baixar o arquivo [aqui](https://dadosabertos.bcb.gov.br/dataset/desenrola-brasil).\n",
    "\n",
    "Com base nos dados fornecidos, podemos realizar algumas análises e construir gráficos, especialmente considerando os aspectos regionais, temporais e financeiros das operações renegociadas. A seguir, detalharei um plano de análise em Python utilizando bibliotecas como pandas e plotly."
   ]
  }
 ],
 "metadata": {
  "kernelspec": {
   "display_name": "Python 3 (ipykernel)",
   "language": "python",
   "name": "python3"
  },
  "language_info": {
   "codemirror_mode": {
    "name": "ipython",
    "version": 3
   },
   "file_extension": ".py",
   "mimetype": "text/x-python",
   "name": "python",
   "nbconvert_exporter": "python",
   "pygments_lexer": "ipython3",
   "version": "3.11.0"
  }
 },
 "nbformat": 4,
 "nbformat_minor": 5
}
